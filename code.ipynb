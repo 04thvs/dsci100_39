{
 "cells": [
  {
   "cell_type": "code",
   "execution_count": 47,
   "id": "4b33f49a-f625-4da0-b28c-4d2abeef2593",
   "metadata": {},
   "outputs": [],
   "source": [
    "library(tidyverse)"
   ]
  },
  {
   "cell_type": "markdown",
   "id": "c56bd621-bbf3-481e-9871-5e24103bec22",
   "metadata": {},
   "source": [
    "### Introduction"
   ]
  },
  {
   "cell_type": "markdown",
   "id": "bb9d50f4-3510-40b8-af46-602ed9a2cd91",
   "metadata": {},
   "source": [
    "A computer science research group at UBC created a replica Minecraft server named Plaicraft, with the goal of collecting data that evaluates how people play video games. All players were volunteers. The researchers were able to collect data for each player that identified various characteristics such as their age, gender expression, and level of previous Minecraft experience, and they then tied that (using an anonymous id) to the number of cumulative hours each player had spent playing Plaicraft at the time of data collection. This project intends to determine whether certain demographics of age and experience level are more likely to contribute a large amount of data, and furthermore whether a satisfactory model can be created to predict the number of hours played (response variable) a certain player will contribute based on these two variables. We believe that this sort of predictive model will benefit researchers when trying to recruit active participants to the Plaicraft server."
   ]
  },
  {
   "cell_type": "markdown",
   "id": "3ebdb766-8e47-48b0-a83e-df2627fb0d0c",
   "metadata": {},
   "source": [
    "In order to achieve this goal, we have decided to use the “players.csv” dataset (196 rows, 9 columns). This datatable appears tidy, as each row represents the data for one player, and each column represents a different variable. The nine different variables included are:\n",
    "\n",
    "“experience” (type: character)\n",
    "Players' self-reported level of Minecraft experience at the time of registering (categorical values, e.g. \"Veteran\").\n",
    "\n",
    "“age” (type: double)\n",
    "Players self-reported age (numerical value).\n",
    "\n",
    "“subscribe” (type: logical) \n",
    "Whether or not users have agreed to subscribe to email notifications regarding server activity at the time of registering (two possible values: TRUE or FALSE).\n",
    "\n",
    "“hashedEmail” (type: character)\n",
    "Players' emails are encrypted to identify them anomalously within the dataset.\n",
    "\n",
    "“played_hours” (type: double)\n",
    "Cumulative number of hours a player has played at the time of data collection (numerical variable).\n",
    "\n",
    "“name” (type: character)\n",
    "Players' chosen pseudonym.\n",
    "\n",
    "“gender” (type: character)\n",
    "Players self-reported gender (categorical values, e.g. \"Female\")\n",
    "\n",
    "“individualId” (type: logical) \n",
    "Empty (no data).\n",
    "\n",
    "“organizationName” (type: logical) \n",
    "Empty (no data)."
   ]
  },
  {
   "cell_type": "markdown",
   "id": "f1716ef6-1a36-45fb-a9d9-bcbe51e4a509",
   "metadata": {},
   "source": [
    "We are only interested in the first two variables listed: experience and age. This is because we later intend to use a knn regression-line model and thus require our explanatory variables to be numerical. Age is already a numerical variable, and level of experience is one of the only other variables that can reasonably be converted to a numerical variable (it can be treated as a scale, whereas other variables like gender cannot be interpreted as an objective scale). We did not want to include variables such as \"subscribe\", that occur upon registration and therefore cannot be used to inform recruitment decisions. Thus, our first step to wrangle our data was to select only for player_hours, experience, and age. And to convert experience to double value."
   ]
  },
  {
   "cell_type": "markdown",
   "id": "0ed44054-9b15-408d-8bb9-dc3482fd875a",
   "metadata": {},
   "source": [
    "### Wrangling Data"
   ]
  },
  {
   "cell_type": "code",
   "execution_count": 40,
   "id": "8240be36-7e49-4dd2-8786-b684771bc706",
   "metadata": {},
   "outputs": [
    {
     "name": "stderr",
     "output_type": "stream",
     "text": [
      "\u001b[1mRows: \u001b[22m\u001b[34m196\u001b[39m \u001b[1mColumns: \u001b[22m\u001b[34m9\u001b[39m\n",
      "\u001b[36m──\u001b[39m \u001b[1mColumn specification\u001b[22m \u001b[36m────────────────────────────────────────────────────────\u001b[39m\n",
      "\u001b[1mDelimiter:\u001b[22m \",\"\n",
      "\u001b[31mchr\u001b[39m (4): experience, hashedEmail, name, gender\n",
      "\u001b[32mdbl\u001b[39m (2): played_hours, age\n",
      "\u001b[33mlgl\u001b[39m (3): subscribe, individualId, organizationName\n",
      "\n",
      "\u001b[36mℹ\u001b[39m Use `spec()` to retrieve the full column specification for this data.\n",
      "\u001b[36mℹ\u001b[39m Specify the column types or set `show_col_types = FALSE` to quiet this message.\n"
     ]
    },
    {
     "data": {
      "text/html": [
       "<table class=\"dataframe\">\n",
       "<caption>A tibble: 6 × 9</caption>\n",
       "<thead>\n",
       "\t<tr><th scope=col>experience</th><th scope=col>subscribe</th><th scope=col>hashedEmail</th><th scope=col>played_hours</th><th scope=col>name</th><th scope=col>gender</th><th scope=col>age</th><th scope=col>individualId</th><th scope=col>organizationName</th></tr>\n",
       "\t<tr><th scope=col>&lt;chr&gt;</th><th scope=col>&lt;lgl&gt;</th><th scope=col>&lt;chr&gt;</th><th scope=col>&lt;dbl&gt;</th><th scope=col>&lt;chr&gt;</th><th scope=col>&lt;chr&gt;</th><th scope=col>&lt;dbl&gt;</th><th scope=col>&lt;lgl&gt;</th><th scope=col>&lt;lgl&gt;</th></tr>\n",
       "</thead>\n",
       "<tbody>\n",
       "\t<tr><td>Pro    </td><td> TRUE</td><td>f6daba428a5e19a3d47574858c13550499be23603422e6a0ee9728f8b53e192d</td><td>30.3</td><td>Morgan   </td><td>Male  </td><td> 9</td><td>NA</td><td>NA</td></tr>\n",
       "\t<tr><td>Veteran</td><td> TRUE</td><td>f3c813577c458ba0dfef80996f8f32c93b6e8af1fa939732842f2312358a88e9</td><td> 3.8</td><td>Christian</td><td>Male  </td><td>17</td><td>NA</td><td>NA</td></tr>\n",
       "\t<tr><td>Veteran</td><td>FALSE</td><td>b674dd7ee0d24096d1c019615ce4d12b20fcbff12d79d3c5a9d2118eb7ccbb28</td><td> 0.0</td><td>Blake    </td><td>Male  </td><td>17</td><td>NA</td><td>NA</td></tr>\n",
       "\t<tr><td>Amateur</td><td> TRUE</td><td>23fe711e0e3b77f1da7aa221ab1192afe21648d47d2b4fa7a5a659ff443a0eb5</td><td> 0.7</td><td>Flora    </td><td>Female</td><td>21</td><td>NA</td><td>NA</td></tr>\n",
       "\t<tr><td>Regular</td><td> TRUE</td><td>7dc01f10bf20671ecfccdac23812b1b415acd42c2147cb0af4d48fcce2420f3e</td><td> 0.1</td><td>Kylie    </td><td>Male  </td><td>21</td><td>NA</td><td>NA</td></tr>\n",
       "\t<tr><td>Amateur</td><td> TRUE</td><td>f58aad5996a435f16b0284a3b267f973f9af99e7a89bee0430055a44fa92f977</td><td> 0.0</td><td>Adrian   </td><td>Female</td><td>17</td><td>NA</td><td>NA</td></tr>\n",
       "</tbody>\n",
       "</table>\n"
      ],
      "text/latex": [
       "A tibble: 6 × 9\n",
       "\\begin{tabular}{lllllllll}\n",
       " experience & subscribe & hashedEmail & played\\_hours & name & gender & age & individualId & organizationName\\\\\n",
       " <chr> & <lgl> & <chr> & <dbl> & <chr> & <chr> & <dbl> & <lgl> & <lgl>\\\\\n",
       "\\hline\n",
       "\t Pro     &  TRUE & f6daba428a5e19a3d47574858c13550499be23603422e6a0ee9728f8b53e192d & 30.3 & Morgan    & Male   &  9 & NA & NA\\\\\n",
       "\t Veteran &  TRUE & f3c813577c458ba0dfef80996f8f32c93b6e8af1fa939732842f2312358a88e9 &  3.8 & Christian & Male   & 17 & NA & NA\\\\\n",
       "\t Veteran & FALSE & b674dd7ee0d24096d1c019615ce4d12b20fcbff12d79d3c5a9d2118eb7ccbb28 &  0.0 & Blake     & Male   & 17 & NA & NA\\\\\n",
       "\t Amateur &  TRUE & 23fe711e0e3b77f1da7aa221ab1192afe21648d47d2b4fa7a5a659ff443a0eb5 &  0.7 & Flora     & Female & 21 & NA & NA\\\\\n",
       "\t Regular &  TRUE & 7dc01f10bf20671ecfccdac23812b1b415acd42c2147cb0af4d48fcce2420f3e &  0.1 & Kylie     & Male   & 21 & NA & NA\\\\\n",
       "\t Amateur &  TRUE & f58aad5996a435f16b0284a3b267f973f9af99e7a89bee0430055a44fa92f977 &  0.0 & Adrian    & Female & 17 & NA & NA\\\\\n",
       "\\end{tabular}\n"
      ],
      "text/markdown": [
       "\n",
       "A tibble: 6 × 9\n",
       "\n",
       "| experience &lt;chr&gt; | subscribe &lt;lgl&gt; | hashedEmail &lt;chr&gt; | played_hours &lt;dbl&gt; | name &lt;chr&gt; | gender &lt;chr&gt; | age &lt;dbl&gt; | individualId &lt;lgl&gt; | organizationName &lt;lgl&gt; |\n",
       "|---|---|---|---|---|---|---|---|---|\n",
       "| Pro     |  TRUE | f6daba428a5e19a3d47574858c13550499be23603422e6a0ee9728f8b53e192d | 30.3 | Morgan    | Male   |  9 | NA | NA |\n",
       "| Veteran |  TRUE | f3c813577c458ba0dfef80996f8f32c93b6e8af1fa939732842f2312358a88e9 |  3.8 | Christian | Male   | 17 | NA | NA |\n",
       "| Veteran | FALSE | b674dd7ee0d24096d1c019615ce4d12b20fcbff12d79d3c5a9d2118eb7ccbb28 |  0.0 | Blake     | Male   | 17 | NA | NA |\n",
       "| Amateur |  TRUE | 23fe711e0e3b77f1da7aa221ab1192afe21648d47d2b4fa7a5a659ff443a0eb5 |  0.7 | Flora     | Female | 21 | NA | NA |\n",
       "| Regular |  TRUE | 7dc01f10bf20671ecfccdac23812b1b415acd42c2147cb0af4d48fcce2420f3e |  0.1 | Kylie     | Male   | 21 | NA | NA |\n",
       "| Amateur |  TRUE | f58aad5996a435f16b0284a3b267f973f9af99e7a89bee0430055a44fa92f977 |  0.0 | Adrian    | Female | 17 | NA | NA |\n",
       "\n"
      ],
      "text/plain": [
       "  experience subscribe\n",
       "1 Pro         TRUE    \n",
       "2 Veteran     TRUE    \n",
       "3 Veteran    FALSE    \n",
       "4 Amateur     TRUE    \n",
       "5 Regular     TRUE    \n",
       "6 Amateur     TRUE    \n",
       "  hashedEmail                                                      played_hours\n",
       "1 f6daba428a5e19a3d47574858c13550499be23603422e6a0ee9728f8b53e192d 30.3        \n",
       "2 f3c813577c458ba0dfef80996f8f32c93b6e8af1fa939732842f2312358a88e9  3.8        \n",
       "3 b674dd7ee0d24096d1c019615ce4d12b20fcbff12d79d3c5a9d2118eb7ccbb28  0.0        \n",
       "4 23fe711e0e3b77f1da7aa221ab1192afe21648d47d2b4fa7a5a659ff443a0eb5  0.7        \n",
       "5 7dc01f10bf20671ecfccdac23812b1b415acd42c2147cb0af4d48fcce2420f3e  0.1        \n",
       "6 f58aad5996a435f16b0284a3b267f973f9af99e7a89bee0430055a44fa92f977  0.0        \n",
       "  name      gender age individualId organizationName\n",
       "1 Morgan    Male    9  NA           NA              \n",
       "2 Christian Male   17  NA           NA              \n",
       "3 Blake     Male   17  NA           NA              \n",
       "4 Flora     Female 21  NA           NA              \n",
       "5 Kylie     Male   21  NA           NA              \n",
       "6 Adrian    Female 17  NA           NA              "
      ]
     },
     "metadata": {},
     "output_type": "display_data"
    }
   ],
   "source": [
    "#load in data\n",
    "googleplayers <- 'https://drive.google.com/file/d/1Mw9vW0hjTJwRWx0bDXiSpYsO3gKogaPz/edit'\n",
    "\n",
    "#Turn google drive link into a direct link to load in the data\n",
    "direct_link_players <- 'https://drive.google.com/uc?export=download&id=1Mw9vW0hjTJwRWx0bDXiSpYsO3gKogaPz'\n",
    "\n",
    "players <- read_csv(direct_link_players)\n",
    "\n",
    "head(players)"
   ]
  },
  {
   "cell_type": "code",
   "execution_count": 50,
   "id": "63137e4a-ef7c-4933-a477-442ed19a5a14",
   "metadata": {},
   "outputs": [
    {
     "data": {
      "text/html": [
       "<table class=\"dataframe\">\n",
       "<caption>A tibble: 6 × 3</caption>\n",
       "<thead>\n",
       "\t<tr><th scope=col>experience</th><th scope=col>played_hours</th><th scope=col>age</th></tr>\n",
       "\t<tr><th scope=col>&lt;int&gt;</th><th scope=col>&lt;dbl&gt;</th><th scope=col>&lt;dbl&gt;</th></tr>\n",
       "</thead>\n",
       "<tbody>\n",
       "\t<tr><td>4</td><td>30.3</td><td> 9</td></tr>\n",
       "\t<tr><td>5</td><td> 3.8</td><td>17</td></tr>\n",
       "\t<tr><td>5</td><td> 0.0</td><td>17</td></tr>\n",
       "\t<tr><td>2</td><td> 0.7</td><td>21</td></tr>\n",
       "\t<tr><td>3</td><td> 0.1</td><td>21</td></tr>\n",
       "\t<tr><td>2</td><td> 0.0</td><td>17</td></tr>\n",
       "</tbody>\n",
       "</table>\n"
      ],
      "text/latex": [
       "A tibble: 6 × 3\n",
       "\\begin{tabular}{lll}\n",
       " experience & played\\_hours & age\\\\\n",
       " <int> & <dbl> & <dbl>\\\\\n",
       "\\hline\n",
       "\t 4 & 30.3 &  9\\\\\n",
       "\t 5 &  3.8 & 17\\\\\n",
       "\t 5 &  0.0 & 17\\\\\n",
       "\t 2 &  0.7 & 21\\\\\n",
       "\t 3 &  0.1 & 21\\\\\n",
       "\t 2 &  0.0 & 17\\\\\n",
       "\\end{tabular}\n"
      ],
      "text/markdown": [
       "\n",
       "A tibble: 6 × 3\n",
       "\n",
       "| experience &lt;int&gt; | played_hours &lt;dbl&gt; | age &lt;dbl&gt; |\n",
       "|---|---|---|\n",
       "| 4 | 30.3 |  9 |\n",
       "| 5 |  3.8 | 17 |\n",
       "| 5 |  0.0 | 17 |\n",
       "| 2 |  0.7 | 21 |\n",
       "| 3 |  0.1 | 21 |\n",
       "| 2 |  0.0 | 17 |\n",
       "\n"
      ],
      "text/plain": [
       "  experience played_hours age\n",
       "1 4          30.3          9 \n",
       "2 5           3.8         17 \n",
       "3 5           0.0         17 \n",
       "4 2           0.7         21 \n",
       "5 3           0.1         21 \n",
       "6 2           0.0         17 "
      ]
     },
     "metadata": {},
     "output_type": "display_data"
    }
   ],
   "source": [
    "players_tidy <- players |> \n",
    "mutate(experience = factor(experience, levels = c(\"Beginner\", \"Amateur\", \"Regular\", \"Pro\", \"Veteran\")) |> \n",
    "       unclass()) |> \n",
    "select(experience, played_hours, age) \n",
    "head(players_tidy)"
   ]
  },
  {
   "cell_type": "code",
   "execution_count": 49,
   "id": "cc655598-17d8-4b79-add3-606c816a048d",
   "metadata": {},
   "outputs": [
    {
     "ename": "ERROR",
     "evalue": "Error in initial_spilt(players_tidy, prop = 0.75, strata = played_hours): could not find function \"initial_spilt\"\n",
     "output_type": "error",
     "traceback": [
      "Error in initial_spilt(players_tidy, prop = 0.75, strata = played_hours): could not find function \"initial_spilt\"\nTraceback:\n"
     ]
    }
   ],
   "source": [
    "data_split <- initial_spilt(players_tidy, prop = .75, strata = played_hours) \n",
    "players_training <- training(data_split) \n",
    "players_testing <- testing(data_split) "
   ]
  },
  {
   "cell_type": "markdown",
   "id": "87ff9f42-5a5c-4ba7-9a8d-ac094004b129",
   "metadata": {},
   "source": [
    "### Summary and Exploratory Visualization"
   ]
  },
  {
   "cell_type": "code",
   "execution_count": 43,
   "id": "a8a022a4-015c-4dbd-a17e-91687d4c8e83",
   "metadata": {},
   "outputs": [
    {
     "ename": "ERROR",
     "evalue": "Error in eval(expr, envir, enclos): object 'players_training' not found\n",
     "output_type": "error",
     "traceback": [
      "Error in eval(expr, envir, enclos): object 'players_training' not found\nTraceback:\n",
      "1. summarize(group_by(players_training, experience), mean_exp = mean(played_hours))",
      "2. group_by(players_training, experience)"
     ]
    }
   ],
   "source": [
    "#graphing the amount of mean hours played by the different experience leveled players \n",
    "options(repr.plot.width = 10, repr.plot.height = 10) \n",
    "\n",
    "exp_hours_mean <- players_training|>\n",
    "group_by(experience)|>\n",
    "summarize(mean_exp = mean(played_hours))\n",
    "\n",
    "players_h_vs_exp<- exp_hours_mean|>\n",
    "                   ggplot(aes(x = experience, y = mean_exp))+\n",
    "                   ggtitle(\"Fig 1. Mean Hours Played of \\nDifference Experience Levels\")+\n",
    "                   geom_bar(stat = \"identity\")+\n",
    "                   labs( x = \"Experience Level of Player\", y = \"Mean Hours Played by Player\") +\n",
    "                   theme(text = element_text(size = 20))\n",
    "players_h_vs_exp"
   ]
  },
  {
   "cell_type": "code",
   "execution_count": 37,
   "id": "67c25d72-835e-4b9d-bd25-b94afd8fea91",
   "metadata": {},
   "outputs": [
    {
     "ename": "ERROR",
     "evalue": "Error in eval(expr, envir, enclos): object 'players_training' not found\n",
     "output_type": "error",
     "traceback": [
      "Error in eval(expr, envir, enclos): object 'players_training' not found\nTraceback:\n",
      "1. summarize(group_by(players_training, age), mean_age = mean(played_hours))",
      "2. group_by(players_training, age)"
     ]
    }
   ],
   "source": [
    "#graphing the amount of mean hours played by the different aged players \n",
    "options(repr.plot.width = 20, repr.plot.height = 10)\n",
    "\n",
    "age_hours_mean <- players_training|>\n",
    "group_by(age)|>\n",
    "summarize(mean_age = mean(played_hours))\n",
    "players_h_vs_age<- age_hours_mean|>\n",
    "                   ggplot(aes(x = age, y = mean_age))+\n",
    "                   ggtitle(\"Fig 2. Mean Hours Played Based on Age\")+\n",
    "                   geom_bar(stat = \"identity\")+\n",
    "                   labs( x = \"Age of Player \\n(Years)\", y = \" Mean Hours Played\")+\n",
    "                   theme(text = element_text(size = 20))+\n",
    "                   scale_x_continuous(breaks = seq(1,100, by = 2)) \n",
    "players_h_vs_age\n",
    "\n",
    "#graphing the amount of mean hours played by the different gendered players "
   ]
  },
  {
   "cell_type": "markdown",
   "id": "4c0c412b-44fd-4f47-94c2-061c4c00e1a6",
   "metadata": {},
   "source": [
    "### Data Analysis"
   ]
  },
  {
   "cell_type": "code",
   "execution_count": null,
   "id": "95f8e3e9-86ca-430e-bf34-867b21b78dda",
   "metadata": {},
   "outputs": [],
   "source": [
    "#Recipe\n",
    "recipe <- recipe(played_hours ~ ., data = players) |> \n",
    "step_center(all_predictors()) |> \n",
    "step_scale(all_predictors())"
   ]
  },
  {
   "cell_type": "code",
   "execution_count": null,
   "id": "ebab8865-c2f8-4ba9-a3f8-f0cb8c35553b",
   "metadata": {},
   "outputs": [],
   "source": []
  },
  {
   "cell_type": "code",
   "execution_count": null,
   "id": "fc9030c8-d86d-4901-8223-a3a01cc928ff",
   "metadata": {},
   "outputs": [],
   "source": []
  }
 ],
 "metadata": {
  "kernelspec": {
   "display_name": "R",
   "language": "R",
   "name": "ir"
  },
  "language_info": {
   "codemirror_mode": "r",
   "file_extension": ".r",
   "mimetype": "text/x-r-source",
   "name": "R",
   "pygments_lexer": "r",
   "version": "4.3.3"
  }
 },
 "nbformat": 4,
 "nbformat_minor": 5
}
